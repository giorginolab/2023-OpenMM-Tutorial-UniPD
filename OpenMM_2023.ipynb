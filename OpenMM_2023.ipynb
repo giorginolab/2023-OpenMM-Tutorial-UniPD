{
  "cells": [
    {
      "cell_type": "markdown",
      "metadata": {
        "id": "view-in-github",
        "colab_type": "text"
      },
      "source": [
        "<a href=\"https://colab.research.google.com/github/giorginolab/OpenMM-Tutorial-UniPD-2023/blob/main/OpenMM_2023.ipynb\" target=\"_parent\"><img src=\"https://colab.research.google.com/assets/colab-badge.svg\" alt=\"Open In Colab\"/></a>"
      ]
    },
    {
      "cell_type": "markdown",
      "metadata": {
        "id": "oeIY1rm5iMoS"
      },
      "source": [
        "# Colab-specific instructions start here"
      ]
    },
    {
      "cell_type": "code",
      "execution_count": null,
      "metadata": {
        "id": "x-LgMM-aMQUu"
      },
      "outputs": [],
      "source": [
        "# Here we use a Conda environment inside Google Colab. Blocks specific for Colab\n",
        "# (like this one) mention \"condacolab\". On \"normal\" platforms the procedure\n",
        "# for installation may be different - you need to check the system's documentation.  \n",
        "\n",
        "# Colab notebooks are \"brittle\": in the course of time Colab is updated\n",
        "# and dependencies no longer work properly. Proper HPC platforms are more\n",
        "# stable (and supported)\n",
        "\n",
        "# !pip install -q condacolab   \n",
        "!pip install -q https://github.com/conda-incubator/condacolab/archive/py39.tar.gz  # Temporary fix\n",
        "import condacolab\n",
        "#condacolab.install()\n",
        "condacolab.install_miniforge()"
      ]
    },
    {
      "cell_type": "code",
      "execution_count": null,
      "metadata": {
        "id": "6tn-o7_HPTPH"
      },
      "outputs": [],
      "source": [
        "# Verify Python version\n",
        "import sys\n",
        "sys.version"
      ]
    },
    {
      "cell_type": "code",
      "execution_count": null,
      "metadata": {
        "id": "R20xtTMUMV1G"
      },
      "outputs": [],
      "source": [
        "import condacolab\n",
        "condacolab.check()"
      ]
    },
    {
      "cell_type": "code",
      "execution_count": null,
      "metadata": {
        "id": "eJBksuFHvywY"
      },
      "outputs": [],
      "source": [
        "# Colab-specific workaround for a weird error upon shell escape:\n",
        "#   NotImplementedError: A UTF-8 locale is required. Got ANSI_X3.4-1968\n",
        "import locale\n",
        "def getpreferredencoding(do_setlocale = True):\n",
        "    return \"UTF-8\"\n",
        "locale.getpreferredencoding = getpreferredencoding"
      ]
    },
    {
      "cell_type": "markdown",
      "metadata": {
        "id": "CUCYRv29iTZL"
      },
      "source": [
        "# Generic installation instructions"
      ]
    },
    {
      "cell_type": "code",
      "execution_count": null,
      "metadata": {
        "id": "byiLnbrjNNKD"
      },
      "outputs": [],
      "source": [
        "# Verify GPU availability and type. If you get an error, check that \n",
        "# \"Runtime / Runtime type / GPU\" is selected.\n",
        "!nvidia-smi"
      ]
    },
    {
      "cell_type": "code",
      "execution_count": null,
      "metadata": {
        "id": "MWxph4gVMhPk"
      },
      "outputs": [],
      "source": [
        "# Install OpenMM. Takes a long time.\n",
        "!conda install -q -c conda-forge openmm pdbfixer"
      ]
    },
    {
      "cell_type": "markdown",
      "source": [
        "# Tests"
      ],
      "metadata": {
        "id": "WsHkdOZ8ELEE"
      }
    },
    {
      "cell_type": "code",
      "execution_count": null,
      "metadata": {
        "id": "qUDOptzpMjaX"
      },
      "outputs": [],
      "source": [
        "# A quick test\n",
        "import openmm.testInstallation\n",
        "openmm.testInstallation.main()"
      ]
    },
    {
      "cell_type": "code",
      "execution_count": null,
      "metadata": {
        "id": "QnTQEtH5wYd0"
      },
      "outputs": [],
      "source": [
        "!(cd /usr/local/share/openmm/examples; python benchmark.py)"
      ]
    },
    {
      "cell_type": "code",
      "execution_count": null,
      "metadata": {
        "id": "gYTdYvChOZId"
      },
      "outputs": [],
      "source": [
        "# A more realistic benchmark. Note the \"ns_per_day\" figure\n",
        "!(cd /usr/local/share/openmm/examples; python benchmark.py --platform CUDA --test pme --seconds 5  --precision mixed)"
      ]
    },
    {
      "cell_type": "code",
      "execution_count": null,
      "metadata": {
        "id": "ohNwcXN1v0SO"
      },
      "outputs": [],
      "source": [
        "# CUDA (NVIDIA GPU) is the fastest platform\n",
        "# !(cd /usr/local/share/openmm/examples; python benchmark.py --platform OpenCL --test pme --seconds 5  --precision mixed)\n",
        "# !(cd /usr/local/share/openmm/examples; python benchmark.py --platform CPU --test pme --seconds 5  --precision mixed)"
      ]
    },
    {
      "cell_type": "markdown",
      "source": [
        "# Here begins the simulations tutorial proper "
      ],
      "metadata": {
        "id": "NCHio6weEOp7"
      }
    },
    {
      "cell_type": "code",
      "source": [],
      "metadata": {
        "id": "bjBZRfY0KM4F"
      },
      "execution_count": null,
      "outputs": []
    }
  ],
  "metadata": {
    "accelerator": "GPU",
    "colab": {
      "provenance": [],
      "authorship_tag": "ABX9TyMtywuuuqqVjijj+xlHEq7V",
      "include_colab_link": true
    },
    "gpuClass": "standard",
    "kernelspec": {
      "display_name": "Python 3",
      "name": "python3"
    },
    "language_info": {
      "name": "python"
    }
  },
  "nbformat": 4,
  "nbformat_minor": 0
}